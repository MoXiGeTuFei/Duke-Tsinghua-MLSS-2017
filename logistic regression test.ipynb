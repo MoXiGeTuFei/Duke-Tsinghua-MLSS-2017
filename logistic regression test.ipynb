{
 "cells": [
  {
   "cell_type": "code",
   "execution_count": 1,
   "metadata": {
    "collapsed": true
   },
   "outputs": [],
   "source": [
    "%matplotlib inline\n",
    "import tensorflow as tf\n",
    "import numpy as np \n",
    "import matplotlib.pyplot as plt\n",
    "from tensorflow.examples.tutorials.mnist import input_data\n",
    "from tqdm import trange"
   ]
  },
  {
   "cell_type": "code",
   "execution_count": 17,
   "metadata": {},
   "outputs": [
    {
     "name": "stdout",
     "output_type": "stream",
     "text": [
      "Extracting MNIST_data/train-images-idx3-ubyte.gz\n",
      "Extracting MNIST_data/train-labels-idx1-ubyte.gz\n",
      "Extracting MNIST_data/t10k-images-idx3-ubyte.gz\n",
      "Extracting MNIST_data/t10k-labels-idx1-ubyte.gz\n"
     ]
    },
    {
     "name": "stderr",
     "output_type": "stream",
     "text": [
      "100%|██████████| 20000/20000 [00:15<00:00, 1290.26it/s]"
     ]
    },
    {
     "name": "stdout",
     "output_type": "stream",
     "text": [
      "the accuracy after traning 20000 iterations is 0.9229999780654907\n"
     ]
    },
    {
     "name": "stderr",
     "output_type": "stream",
     "text": [
      "\n"
     ]
    }
   ],
   "source": [
    "it = 20000\n",
    "\n",
    "mnist = input_data.read_data_sets('MNIST_data/',one_hot = True)\n",
    "images = tf.placeholder(tf.float32,[None, 784])\n",
    "labels = tf.placeholder(tf.float32,[None, 10])\n",
    "\n",
    "W = tf.Variable(initial_value = tf.zeros([784,10]),dtype = tf.float32)\n",
    "b = tf.Variable(initial_value = tf.zeros([10]), dtype = tf.float32)\n",
    "logits = tf.matmul(images,W) + b\n",
    "\n",
    "loss = tf.reduce_mean(tf.nn.softmax_cross_entropy_with_logits(labels = labels, logits = logits))\n",
    "train_step = tf.train.GradientDescentOptimizer(0.1).minimize(loss)\n",
    "test_accuracy = tf.reduce_mean(tf.cast(tf.equal(tf.argmax(labels, axis=1),tf.argmax(logits, axis=1)),dtype=tf.float32))\n",
    "\n",
    "with tf.Session() as sess:\n",
    "    sess.run(tf.global_variables_initializer())\n",
    "    for _ in trange(it):\n",
    "        i,l = mnist.train.next_batch(100)\n",
    "        sess.run(train_step, feed_dict={images:i, labels:l})\n",
    "        \n",
    "    rst = sess.run(test_accuracy, feed_dict={images:mnist.test.images, labels:mnist.test.labels})\n",
    "    print(\"the accuracy after traning {} iterations is {}\".format(it,rst))\n"
   ]
  }
 ],
 "metadata": {
  "kernelspec": {
   "display_name": "Python 3",
   "language": "python",
   "name": "python3"
  },
  "language_info": {
   "codemirror_mode": {
    "name": "ipython",
    "version": 3
   },
   "file_extension": ".py",
   "mimetype": "text/x-python",
   "name": "python",
   "nbconvert_exporter": "python",
   "pygments_lexer": "ipython3",
   "version": "3.6.2"
  }
 },
 "nbformat": 4,
 "nbformat_minor": 2
}
